{
 "cells": [
  {
   "cell_type": "markdown",
   "metadata": {},
   "source": [
    "### Simple Segmentation"
   ]
  },
  {
   "cell_type": "code",
   "execution_count": 1,
   "metadata": {},
   "outputs": [
    {
     "ename": "FileNotFoundError",
     "evalue": "[Errno 2] No such file or directory: 'resnet_34_8s_66.pth'",
     "output_type": "error",
     "traceback": [
      "\u001b[1;31m---------------------------------------------------------------------------\u001b[0m",
      "\u001b[1;31mFileNotFoundError\u001b[0m                         Traceback (most recent call last)",
      "\u001b[1;32m<ipython-input-1-6d353301e903>\u001b[0m in \u001b[0;36m<module>\u001b[1;34m()\u001b[0m\n\u001b[0;32m     38\u001b[0m \u001b[1;33m\u001b[0m\u001b[0m\n\u001b[0;32m     39\u001b[0m \u001b[0mfcn\u001b[0m \u001b[1;33m=\u001b[0m \u001b[0mresnet_dilated\u001b[0m\u001b[1;33m.\u001b[0m\u001b[0mResnet34_8s\u001b[0m\u001b[1;33m(\u001b[0m\u001b[0mnum_classes\u001b[0m\u001b[1;33m=\u001b[0m\u001b[1;36m21\u001b[0m\u001b[1;33m)\u001b[0m\u001b[1;33m\u001b[0m\u001b[0m\n\u001b[1;32m---> 40\u001b[1;33m \u001b[0mfcn\u001b[0m\u001b[1;33m.\u001b[0m\u001b[0mload_state_dict\u001b[0m\u001b[1;33m(\u001b[0m\u001b[0mtorch\u001b[0m\u001b[1;33m.\u001b[0m\u001b[0mload\u001b[0m\u001b[1;33m(\u001b[0m\u001b[1;34m'resnet_34_8s_66.pth'\u001b[0m\u001b[1;33m,\u001b[0m \u001b[0mmap_location\u001b[0m\u001b[1;33m=\u001b[0m\u001b[1;32mlambda\u001b[0m \u001b[0mstorage\u001b[0m\u001b[1;33m,\u001b[0m \u001b[0mloc\u001b[0m\u001b[1;33m:\u001b[0m \u001b[0mstorage\u001b[0m\u001b[1;33m)\u001b[0m\u001b[1;33m)\u001b[0m\u001b[1;33m\u001b[0m\u001b[0m\n\u001b[0m\u001b[0;32m     41\u001b[0m \u001b[1;31m#fcn.cuda()\u001b[0m\u001b[1;33m\u001b[0m\u001b[1;33m\u001b[0m\u001b[0m\n\u001b[0;32m     42\u001b[0m \u001b[0mfcn\u001b[0m\u001b[1;33m.\u001b[0m\u001b[0meval\u001b[0m\u001b[1;33m(\u001b[0m\u001b[1;33m)\u001b[0m\u001b[1;33m\u001b[0m\u001b[0m\n",
      "\u001b[1;32m~\\AppData\\Local\\Continuum\\anaconda3\\lib\\site-packages\\torch\\serialization.py\u001b[0m in \u001b[0;36mload\u001b[1;34m(f, map_location, pickle_module)\u001b[0m\n\u001b[0;32m    299\u001b[0m             \u001b[1;33m(\u001b[0m\u001b[0msys\u001b[0m\u001b[1;33m.\u001b[0m\u001b[0mversion_info\u001b[0m\u001b[1;33m[\u001b[0m\u001b[1;36m0\u001b[0m\u001b[1;33m]\u001b[0m \u001b[1;33m==\u001b[0m \u001b[1;36m3\u001b[0m \u001b[1;32mand\u001b[0m \u001b[0misinstance\u001b[0m\u001b[1;33m(\u001b[0m\u001b[0mf\u001b[0m\u001b[1;33m,\u001b[0m \u001b[0mpathlib\u001b[0m\u001b[1;33m.\u001b[0m\u001b[0mPath\u001b[0m\u001b[1;33m)\u001b[0m\u001b[1;33m)\u001b[0m\u001b[1;33m:\u001b[0m\u001b[1;33m\u001b[0m\u001b[0m\n\u001b[0;32m    300\u001b[0m         \u001b[0mnew_fd\u001b[0m \u001b[1;33m=\u001b[0m \u001b[1;32mTrue\u001b[0m\u001b[1;33m\u001b[0m\u001b[0m\n\u001b[1;32m--> 301\u001b[1;33m         \u001b[0mf\u001b[0m \u001b[1;33m=\u001b[0m \u001b[0mopen\u001b[0m\u001b[1;33m(\u001b[0m\u001b[0mf\u001b[0m\u001b[1;33m,\u001b[0m \u001b[1;34m'rb'\u001b[0m\u001b[1;33m)\u001b[0m\u001b[1;33m\u001b[0m\u001b[0m\n\u001b[0m\u001b[0;32m    302\u001b[0m     \u001b[1;32mtry\u001b[0m\u001b[1;33m:\u001b[0m\u001b[1;33m\u001b[0m\u001b[0m\n\u001b[0;32m    303\u001b[0m         \u001b[1;32mreturn\u001b[0m \u001b[0m_load\u001b[0m\u001b[1;33m(\u001b[0m\u001b[0mf\u001b[0m\u001b[1;33m,\u001b[0m \u001b[0mmap_location\u001b[0m\u001b[1;33m,\u001b[0m \u001b[0mpickle_module\u001b[0m\u001b[1;33m)\u001b[0m\u001b[1;33m\u001b[0m\u001b[0m\n",
      "\u001b[1;31mFileNotFoundError\u001b[0m: [Errno 2] No such file or directory: 'resnet_34_8s_66.pth'"
     ]
    }
   ],
   "source": [
    "%matplotlib inline\n",
    "\n",
    "import sys, os\n",
    "sys.path.append('C:/Users/abinenfe/Documents/Studies/Computer Vision HW - Git/vision/hw2/q3/')\n",
    "sys.path.append('C:/Users/abinenfe/Documents/Studies/Computer Vision HW - Git/vision/hw2/q3/pytorch_segmentation_detection/')\n",
    "sys.path.insert(0, 'C:/Users/abinenfe/Documents/Studies/Computer Vision HW - Git/vision/hw2/q3/vision/')\n",
    "\n",
    "# Use second GPU -pytorch-segmentation-detection- change if you want to use a first one\n",
    "os.environ[\"CUDA_VISIBLE_DEVICES\"] = '0' # Ariel - No CUDA devices for us :(\n",
    "\n",
    "from PIL import Image\n",
    "from matplotlib import pyplot as plt\n",
    "\n",
    "import torch\n",
    "from torchvision import transforms\n",
    "from torch.autograd import Variable\n",
    "import pytorch_segmentation_detection.models.resnet_dilated as resnet_dilated\n",
    "\n",
    "import numpy as np\n",
    "\n",
    "\n",
    "img_path = 'demo_img_igor.jpeg'\n",
    "\n",
    "valid_transform = transforms.Compose(\n",
    "                [\n",
    "                     transforms.ToTensor(),\n",
    "                     transforms.Normalize((0.485, 0.456, 0.406), (0.229, 0.224, 0.225))\n",
    "                ])\n",
    "\n",
    "img_not_preprocessed = Image.open(img_path).convert('RGB')\n",
    "\n",
    "img = valid_transform(img_not_preprocessed)\n",
    "\n",
    "img = img.unsqueeze(0)\n",
    "\n",
    "# img = Variable(img.cuda())\n",
    "img = Variable(img)\n",
    "\n",
    "fcn = resnet_dilated.Resnet34_8s(num_classes=21)\n",
    "fcn.load_state_dict(torch.load('resnet_34_8s_68.pth', map_location=lambda storage, loc: storage))\n",
    "#fcn.cuda()\n",
    "fcn.eval()\n",
    "\n",
    "res = fcn(img)\n",
    "\n",
    "_, tmp = res.squeeze(0).max(0)\n",
    "\n",
    "segmentation = tmp.data.cpu().numpy().squeeze()\n",
    "\n",
    "plt.imshow(img_not_preprocessed)\n",
    "plt.show()\n",
    "\n",
    "plt.imshow(segmentation)\n",
    "plt.show()"
   ]
  },
  {
   "cell_type": "markdown",
   "metadata": {},
   "source": [
    "### Create a sticker with a contour"
   ]
  },
  {
   "cell_type": "code",
   "execution_count": null,
   "metadata": {
    "collapsed": true
   },
   "outputs": [],
   "source": [
    "import skimage.morphology\n",
    "\n",
    "image_np = np.asarray(img_not_preprocessed)\n",
    "\n",
    "prediction_mask = (segmentation == 15)\n",
    "\n",
    "# Let's apply some morphological operations to\n",
    "# create the contour for our sticker\n",
    "\n",
    "cropped_object = image_np * np.dstack((prediction_mask,) * 3)\n",
    "\n",
    "square = skimage.morphology.square(5)\n",
    "\n",
    "temp = skimage.morphology.binary_erosion(prediction_mask, square)\n",
    "\n",
    "negative_mask = (temp != True)\n",
    "\n",
    "eroding_countour = negative_mask * prediction_mask\n",
    "\n",
    "eroding_countour_img = np.dstack((eroding_countour, ) * 3)\n",
    "\n",
    "cropped_object_no_contour = cropped_object.copy()\n",
    "\n",
    "cropped_object[eroding_countour_img] = 248\n",
    "\n",
    "png_transparancy_mask = np.uint8(prediction_mask * 255)\n",
    "\n",
    "image_shape = cropped_object.shape\n",
    "\n",
    "png_array = np.zeros(shape=[image_shape[0], image_shape[1], 4], dtype=np.uint8)\n",
    "png_array[:, :, :3] = cropped_object\n",
    "png_array[:, :, 3] = png_transparancy_mask\n",
    "\n",
    "png_array_1 = np.zeros(shape=[image_shape[0], image_shape[1], 4], dtype=np.uint8)\n",
    "png_array_1[:, :, :3] = cropped_object_no_contour\n",
    "png_array_1[:, :, 3] = png_transparancy_mask\n",
    "\n",
    "plt.imshow(cropped_object)\n",
    "\n",
    "plt.imsave('sticker_contour.png', png_array)\n",
    "plt.imsave('sticker_no_contour.png', png_array_1)"
   ]
  },
  {
   "cell_type": "markdown",
   "metadata": {},
   "source": [
    "### Create new background"
   ]
  },
  {
   "cell_type": "code",
   "execution_count": null,
   "metadata": {
    "collapsed": true
   },
   "outputs": [],
   "source": [
    "layer1 = Image.open(\"demo_img_epic_background.jpg\")\n",
    "layer2_tmp = Image.open(\"sticker_no_contour.png\")\n",
    "layer2 = layer2_tmp.resize((320, 180))\n",
    "\n",
    "final1 = Image.new(\"RGBA\", layer1.size)\n",
    "final1.paste(layer1)\n",
    "final1.paste(layer2, (100,600), layer2)\n",
    "\n",
    "final1\n"
   ]
  },
  {
   "cell_type": "markdown",
   "metadata": {},
   "source": [
    "### Iphone's portrait mode"
   ]
  },
  {
   "cell_type": "markdown",
   "metadata": {},
   "source": [
    "### Original picture"
   ]
  },
  {
   "cell_type": "code",
   "execution_count": null,
   "metadata": {
    "collapsed": true
   },
   "outputs": [],
   "source": [
    "img_not_preprocessed"
   ]
  },
  {
   "cell_type": "markdown",
   "metadata": {},
   "source": [
    "### Portrait mode"
   ]
  },
  {
   "cell_type": "code",
   "execution_count": null,
   "metadata": {
    "collapsed": true
   },
   "outputs": [],
   "source": [
    "from PIL import ImageFilter\n",
    "\n",
    "blurred_image = img_not_preprocessed.filter(ImageFilter.GaussianBlur(radius=4))\n",
    "\n",
    "final1 = Image.new(\"RGBA\", blurred_image.size)\n",
    "final1.paste(blurred_image)\n",
    "final1.paste(layer2_tmp, (0,0), layer2_tmp)\n",
    "\n",
    "final1"
   ]
  }
 ],
 "metadata": {
  "kernelspec": {
   "display_name": "Python 3",
   "language": "python",
   "name": "python3"
  },
  "language_info": {
   "codemirror_mode": {
    "name": "ipython",
    "version": 3
   },
   "file_extension": ".py",
   "mimetype": "text/x-python",
   "name": "python",
   "nbconvert_exporter": "python",
   "pygments_lexer": "ipython3",
   "version": "3.6.3"
  }
 },
 "nbformat": 4,
 "nbformat_minor": 2
}
