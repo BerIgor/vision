{
 "cells": [
  {
   "cell_type": "markdown",
   "metadata": {},
   "source": [
    "### Benchmark the speed\n",
    "\n",
    "Run the script below to get the estimate of fps you can achieve on your machine.\n",
    "For this experiment we used ```timeit``` magic function."
   ]
  },
  {
   "cell_type": "code",
   "execution_count": 9,
   "metadata": {},
   "outputs": [
    {
     "ename": "FileNotFoundError",
     "evalue": "[Errno 2] No such file or directory: 'demo_img_igor.jpg'",
     "output_type": "error",
     "traceback": [
      "\u001b[1;31m---------------------------------------------------------------------------\u001b[0m",
      "\u001b[1;31mFileNotFoundError\u001b[0m                         Traceback (most recent call last)",
      "\u001b[1;32m<ipython-input-9-01f0eeec571c>\u001b[0m in \u001b[0;36m<module>\u001b[1;34m()\u001b[0m\n\u001b[0;32m     28\u001b[0m                 ])\n\u001b[0;32m     29\u001b[0m \u001b[1;33m\u001b[0m\u001b[0m\n\u001b[1;32m---> 30\u001b[1;33m \u001b[0mimg_not_preprocessed\u001b[0m \u001b[1;33m=\u001b[0m \u001b[0mImage\u001b[0m\u001b[1;33m.\u001b[0m\u001b[0mopen\u001b[0m\u001b[1;33m(\u001b[0m\u001b[0mimg_path\u001b[0m\u001b[1;33m)\u001b[0m\u001b[1;33m.\u001b[0m\u001b[0mconvert\u001b[0m\u001b[1;33m(\u001b[0m\u001b[1;34m'RGB'\u001b[0m\u001b[1;33m)\u001b[0m\u001b[1;33m\u001b[0m\u001b[0m\n\u001b[0m\u001b[0;32m     31\u001b[0m \u001b[1;33m\u001b[0m\u001b[0m\n\u001b[0;32m     32\u001b[0m \u001b[0mimg\u001b[0m \u001b[1;33m=\u001b[0m \u001b[0mvalid_transform\u001b[0m\u001b[1;33m(\u001b[0m\u001b[0mimg_not_preprocessed\u001b[0m\u001b[1;33m)\u001b[0m\u001b[1;33m\u001b[0m\u001b[0m\n",
      "\u001b[1;32m~\\AppData\\Local\\Continuum\\anaconda3\\lib\\site-packages\\PIL\\Image.py\u001b[0m in \u001b[0;36mopen\u001b[1;34m(fp, mode)\u001b[0m\n\u001b[0;32m   2546\u001b[0m \u001b[1;33m\u001b[0m\u001b[0m\n\u001b[0;32m   2547\u001b[0m     \u001b[1;32mif\u001b[0m \u001b[0mfilename\u001b[0m\u001b[1;33m:\u001b[0m\u001b[1;33m\u001b[0m\u001b[0m\n\u001b[1;32m-> 2548\u001b[1;33m         \u001b[0mfp\u001b[0m \u001b[1;33m=\u001b[0m \u001b[0mbuiltins\u001b[0m\u001b[1;33m.\u001b[0m\u001b[0mopen\u001b[0m\u001b[1;33m(\u001b[0m\u001b[0mfilename\u001b[0m\u001b[1;33m,\u001b[0m \u001b[1;34m\"rb\"\u001b[0m\u001b[1;33m)\u001b[0m\u001b[1;33m\u001b[0m\u001b[0m\n\u001b[0m\u001b[0;32m   2549\u001b[0m         \u001b[0mexclusive_fp\u001b[0m \u001b[1;33m=\u001b[0m \u001b[1;32mTrue\u001b[0m\u001b[1;33m\u001b[0m\u001b[0m\n\u001b[0;32m   2550\u001b[0m \u001b[1;33m\u001b[0m\u001b[0m\n",
      "\u001b[1;31mFileNotFoundError\u001b[0m: [Errno 2] No such file or directory: 'demo_img_igor.jpg'"
     ]
    }
   ],
   "source": [
    "%matplotlib inline\n",
    "\n",
    "import sys, os\n",
    "sys.path.append('C:/Users/abinenfe/Documents/Studies/Computer Vision HW - Git/vision/hw2/pytorch-segmentation-detection-master/')\n",
    "sys.path.append('C:/Users/abinenfe/Documents/Studies/Computer Vision HW - Git/vision/hw2/pytorch-segmentation-detection-master/pytorch_segmentation_detection/')\n",
    "sys.path.insert(0, 'C:/Users/abinenfe/Documents/Studies/Computer Vision HW - Git/vision/hw2/pytorch-segmentation-detection-master/vision/')\n",
    "\n",
    "# Use second GPU -pytorch-segmentation-detection- change if you want to use a first one\n",
    "os.environ[\"CUDA_VISIBLE_DEVICES\"] = '0' # TODO - Changed 3 -> 0\n",
    "\n",
    "from PIL import Image\n",
    "from matplotlib import pyplot as plt\n",
    "\n",
    "import torch\n",
    "from torchvision import transforms\n",
    "from torch.autograd import Variable\n",
    "import pytorch_segmentation_detection.models.resnet_dilated as resnet_dilated\n",
    "\n",
    "import numpy as np\n",
    "\n",
    "\n",
    "img_path = 'demo_img_igor.jpeg'\n",
    "\n",
    "valid_transform = transforms.Compose(\n",
    "                [\n",
    "                     transforms.ToTensor(),\n",
    "                     transforms.Normalize((0.485, 0.456, 0.406), (0.229, 0.224, 0.225))\n",
    "                ])\n",
    "\n",
    "img_not_preprocessed = Image.open(img_path).convert('RGB')\n",
    "\n",
    "img = valid_transform(img_not_preprocessed)\n",
    "\n",
    "img = img.unsqueeze(0)\n",
    "\n",
    "# img = Variable(img.cuda()) \n",
    "img = Variable(img) \n",
    "\n",
    "\n",
    "fcn = resnet_dilated.Resnet34_8s(num_classes=21)\n",
    "fcn.load_state_dict(torch.load('resnet_34_8s_68.pth', map_location=lambda storage, loc: storage))\n",
    "#fcn.cuda()\n",
    "fcn.eval()\n",
    "\n",
    "res = fcn(img)\n",
    "\n",
    "_, tmp = res.squeeze(0).max(0)\n",
    "\n",
    "segmentation = tmp.data.cpu().numpy().squeeze()\n",
    "\n",
    "plt.imshow(img_not_preprocessed)\n",
    "plt.show()\n",
    "\n",
    "plt.imshow(segmentation)\n",
    "plt.show()"
   ]
  },
  {
   "cell_type": "code",
   "execution_count": null,
   "metadata": {
    "collapsed": true
   },
   "outputs": [],
   "source": [
    "def benchmark_fcn():\n",
    "    \n",
    "    img = valid_transform(img_not_preprocessed)\n",
    "\n",
    "    img = img.unsqueeze(0)\n",
    "\n",
    "    img = Variable(img.cuda())\n",
    "    \n",
    "    res = fcn(img)"
   ]
  },
  {
   "cell_type": "code",
   "execution_count": null,
   "metadata": {
    "collapsed": true
   },
   "outputs": [],
   "source": [
    "img_not_preprocessed.size"
   ]
  },
  {
   "cell_type": "code",
   "execution_count": null,
   "metadata": {
    "collapsed": true
   },
   "outputs": [],
   "source": [
    "%%timeit \n",
    "# 50ms on a 512 by 512 image\n",
    "\n",
    "benchmark_fcn()"
   ]
  }
 ],
 "metadata": {
  "kernelspec": {
   "display_name": "Python 3",
   "language": "python",
   "name": "python3"
  },
  "language_info": {
   "codemirror_mode": {
    "name": "ipython",
    "version": 3
   },
   "file_extension": ".py",
   "mimetype": "text/x-python",
   "name": "python",
   "nbconvert_exporter": "python",
   "pygments_lexer": "ipython3",
   "version": "3.6.3"
  }
 },
 "nbformat": 4,
 "nbformat_minor": 2
}
